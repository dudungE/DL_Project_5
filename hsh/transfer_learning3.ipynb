{
 "cells": [
  {
   "cell_type": "code",
   "execution_count": 1,
   "metadata": {},
   "outputs": [],
   "source": [
    "import os\n",
    "import cv2\n",
    "import numpy as np\n",
    "import pandas as pd\n",
    "\n",
    "from tqdm import tqdm_notebook\n",
    "import matplotlib.pyplot as plt"
   ]
  },
  {
   "cell_type": "code",
   "execution_count": 2,
   "metadata": {},
   "outputs": [],
   "source": [
    "df = pd.read_csv('./clustering2.csv', encoding='utf-8', index_col=0)"
   ]
  },
  {
   "cell_type": "code",
   "execution_count": 3,
   "metadata": {},
   "outputs": [
    {
     "name": "stderr",
     "output_type": "stream",
     "text": [
      "C:\\Users\\sanghui\\AppData\\Local\\Temp/ipykernel_17908/2470885059.py:8: TqdmDeprecationWarning: This function will be removed in tqdm==5.0.0\n",
      "Please use `tqdm.notebook.tqdm` instead of `tqdm.tqdm_notebook`\n",
      "  for i in tqdm_notebook(range(5)):\n"
     ]
    },
    {
     "data": {
      "application/vnd.jupyter.widget-view+json": {
       "model_id": "efd5384fd7ee441a8cb21d953ab186c7",
       "version_major": 2,
       "version_minor": 0
      },
      "text/plain": [
       "  0%|          | 0/5 [00:00<?, ?it/s]"
      ]
     },
     "metadata": {},
     "output_type": "display_data"
    }
   ],
   "source": [
    "from sklearn.model_selection import train_test_split\n",
    "\n",
    "X = []\n",
    "y = []\n",
    "\n",
    "path = 'C:/Users/sanghui/Desktop/toyproject/DL_Project_5/hsh/data/2_15_crop'\n",
    "\n",
    "for i in tqdm_notebook(range(5)):\n",
    "    random_set = np.random.choice(df[df['cluster']==i]['filename'].values, 2400, replace=False)\n",
    "    for file in random_set:\n",
    "        file_path = path + '/' + file\n",
    "        src = cv2.imread(file_path, cv2.IMREAD_COLOR)\n",
    "        dst = cv2.resize(src, dsize=(299, 299), interpolation=cv2.INTER_CUBIC)\n",
    "        X.append(dst)\n",
    "        y.append(df[df['filename'] == file]['cluster'].values[0]) "
   ]
  },
  {
   "cell_type": "code",
   "execution_count": 4,
   "metadata": {},
   "outputs": [],
   "source": [
    "X = np.array(X)\n",
    "y = np.array(y)\n",
    "\n",
    "X_train, X_test, y_train, y_test = train_test_split(X, y, test_size=0.2, stratify=y, random_state=42, shuffle=True)\n",
    "\n",
    "X_train, X_test = X_train/255.0, X_test/225.0"
   ]
  },
  {
   "cell_type": "code",
   "execution_count": 5,
   "metadata": {},
   "outputs": [
    {
     "name": "stdout",
     "output_type": "stream",
     "text": [
      "Model: \"sequential\"\n",
      "_________________________________________________________________\n",
      " Layer (type)                Output Shape              Param #   \n",
      "=================================================================\n",
      " inception_v3 (Functional)   (None, 8, 8, 2048)        21802784  \n",
      "                                                                 \n",
      " global_average_pooling2d (G  (None, 2048)             0         \n",
      " lobalAveragePooling2D)                                          \n",
      "                                                                 \n",
      " dropout (Dropout)           (None, 2048)              0         \n",
      "                                                                 \n",
      " dense (Dense)               (None, 5)                 10245     \n",
      "                                                                 \n",
      "=================================================================\n",
      "Total params: 21,813,029\n",
      "Trainable params: 10,245\n",
      "Non-trainable params: 21,802,784\n",
      "_________________________________________________________________\n"
     ]
    }
   ],
   "source": [
    "from tensorflow.keras.models import Sequential\n",
    "from tensorflow.keras import optimizers, losses, activations, models\n",
    "from tensorflow.keras.layers import Convolution2D, Dense, Input, Flatten, Dropout, MaxPooling2D, BatchNormalization, GlobalAveragePooling2D, Concatenate\n",
    "from tensorflow.keras import applications\n",
    "from keras.applications.inception_v3 import preprocess_input\n",
    "\n",
    "\n",
    "input_shape = (299, 299, 3)\n",
    "\n",
    "base_model = applications.InceptionV3(weights='imagenet', include_top=False, input_shape=input_shape)\n",
    "\n",
    "base_model.trainable = False\n",
    "\n",
    "add_model = Sequential()\n",
    "add_model.add(base_model)\n",
    "add_model.add(GlobalAveragePooling2D())\n",
    "add_model.add(Dropout(0.5))\n",
    "add_model.add(Dense(5, activation='softmax'))\n",
    "\n",
    "model = add_model\n",
    "\n",
    "model.compile(loss='sparse_categorical_crossentropy', optimizer='adam', metrics=['accuracy'])\n",
    "model.summary()\n"
   ]
  },
  {
   "cell_type": "code",
   "execution_count": 6,
   "metadata": {},
   "outputs": [
    {
     "name": "stdout",
     "output_type": "stream",
     "text": [
      "Epoch 1/10\n",
      "300/300 [==============================] - 479s 2s/step - loss: 0.5422 - accuracy: 0.7857 - val_loss: 0.3505 - val_accuracy: 0.8629\n",
      "Epoch 2/10\n",
      "300/300 [==============================] - 464s 2s/step - loss: 0.3554 - accuracy: 0.8554 - val_loss: 0.3232 - val_accuracy: 0.8708\n",
      "Epoch 3/10\n",
      "300/300 [==============================] - 468s 2s/step - loss: 0.3343 - accuracy: 0.8607 - val_loss: 0.3380 - val_accuracy: 0.8621\n",
      "Epoch 4/10\n",
      "300/300 [==============================] - 478s 2s/step - loss: 0.3152 - accuracy: 0.8707 - val_loss: 0.3056 - val_accuracy: 0.8854\n",
      "Epoch 5/10\n",
      "300/300 [==============================] - 477s 2s/step - loss: 0.3060 - accuracy: 0.8771 - val_loss: 0.3299 - val_accuracy: 0.8667\n",
      "Epoch 6/10\n",
      "300/300 [==============================] - 474s 2s/step - loss: 0.3032 - accuracy: 0.8783 - val_loss: 0.3080 - val_accuracy: 0.8775\n",
      "Epoch 7/10\n",
      "300/300 [==============================] - 478s 2s/step - loss: 0.2984 - accuracy: 0.8763 - val_loss: 0.3024 - val_accuracy: 0.8821\n",
      "Epoch 8/10\n",
      "300/300 [==============================] - 476s 2s/step - loss: 0.2931 - accuracy: 0.8798 - val_loss: 0.3023 - val_accuracy: 0.8737\n",
      "Epoch 9/10\n",
      "300/300 [==============================] - 471s 2s/step - loss: 0.2940 - accuracy: 0.8844 - val_loss: 0.3118 - val_accuracy: 0.8771\n",
      "Epoch 10/10\n",
      "300/300 [==============================] - 471s 2s/step - loss: 0.2901 - accuracy: 0.8821 - val_loss: 0.3025 - val_accuracy: 0.8779\n"
     ]
    }
   ],
   "source": [
    "hist = model.fit(X_train, y_train, validation_data=(X_test, y_test), epochs=10, batch_size=32, verbose=1)"
   ]
  },
  {
   "cell_type": "code",
   "execution_count": 7,
   "metadata": {},
   "outputs": [
    {
     "data": {
      "image/png": "[encoded data removed]",
      "text/plain": [
       "<Figure size 864x576 with 1 Axes>"
      ]
     },
     "metadata": {
      "needs_background": "light"
     },
     "output_type": "display_data"
    }
   ],
   "source": [
    "plot_target = ['loss', 'val_loss', 'accuracy', 'val_accuracy']\n",
    "\n",
    "plt.figure(figsize=(12, 8))\n",
    "\n",
    "for each in plot_target:\n",
    "    plt.plot(hist.history[each], label=each)\n",
    "\n",
    "plt.legend()\n",
    "plt.grid()\n",
    "plt.show()"
   ]
  },
  {
   "cell_type": "code",
   "execution_count": null,
   "metadata": {},
   "outputs": [],
   "source": []
  }
 ],
 "metadata": {
  "interpreter": {
   "hash": "fff8a2ebda7d7c31fff9abc7af7b4b1a85e6e317ed9dea4607b41f7b3e93769e"
  },
  "kernelspec": {
   "display_name": "Python 3.8.11 64-bit ('ds_study': conda)",
   "language": "python",
   "name": "python3"
  },
  "language_info": {
   "codemirror_mode": {
    "name": "ipython",
    "version": 3
   },
   "file_extension": ".py",
   "mimetype": "text/x-python",
   "name": "python",
   "nbconvert_exporter": "python",
   "pygments_lexer": "ipython3",
   "version": "3.8.11"
  },
  "orig_nbformat": 4
 },
 "nbformat": 4,
 "nbformat_minor": 2
}
