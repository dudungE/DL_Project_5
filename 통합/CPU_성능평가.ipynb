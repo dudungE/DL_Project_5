{
 "cells": [
  {
   "cell_type": "code",
   "execution_count": 2,
   "metadata": {},
   "outputs": [],
   "source": [
    "import os\n",
    "import cv2\n",
    "import numpy as np\n",
    "import pandas as pd\n",
    "\n",
    "from tqdm import tqdm_notebook\n",
    "import matplotlib.pyplot as plt\n",
    "\n",
    "\n",
    "from tensorflow.keras.models import load_model\n",
    "import tensorflow as tf\n",
    "from tensorflow.compat.v1 import ConfigProto\n",
    "from tensorflow.compat.v1 import InteractiveSession"
   ]
  },
  {
   "cell_type": "markdown",
   "metadata": {},
   "source": [
    "# CPU 상에서 5개 클래스 학습 및 평가"
   ]
  },
  {
   "cell_type": "code",
   "execution_count": 3,
   "metadata": {},
   "outputs": [
    {
     "name": "stdout",
     "output_type": "stream",
     "text": [
      "3.6.10 |Anaconda, Inc.| (default, Mar 25 2020, 23:51:54) \n",
      "[GCC 7.3.0]\n",
      "--------------------------------------------------\n",
      "Python 3.6.10 :: Anaconda, Inc.\n",
      "--------------------------------------------------\n",
      "tensorflow:2.6.0\n",
      "--------------------------------------------------\n",
      "Num GPUs Available: 0\n",
      "--------------------------------------------------\n",
      "name: \"/device:CPU:0\"\n",
      "device_type: \"CPU\"\n",
      "memory_limit: 268435456\n",
      "locality {\n",
      "}\n",
      "incarnation: 2986072229991259913\n",
      "\n"
     ]
    }
   ],
   "source": [
    "import sys\n",
    "import tensorflow.keras\n",
    "from tensorflow.python.client import device_lib\n",
    "\n",
    "print(sys.version)\n",
    "print('-'*50)\n",
    "!python --version\n",
    "print('-'*50)\n",
    "print('tensorflow:{}'.format(tensorflow.keras.__version__))\n",
    "print('-'*50)\n",
    "print(\"Num GPUs Available:\",len(tf.config.experimental.list_physical_devices('GPU')))\n",
    "for i in tf.config.list_physical_devices('GPU'):\n",
    "    print(i)   \n",
    "for i in device_lib.list_local_devices()[-len(tf.config.experimental.list_physical_devices('GPU')):]:\n",
    "    print('-'*50)\n",
    "    print(i)"
   ]
  },
  {
   "cell_type": "code",
   "execution_count": 7,
   "metadata": {},
   "outputs": [],
   "source": [
    "df = pd.read_csv('./data/clustering2.csv', encoding='utf-8', index_col=0)"
   ]
  },
  {
   "cell_type": "code",
   "execution_count": 8,
   "metadata": {},
   "outputs": [
    {
     "name": "stderr",
     "output_type": "stream",
     "text": [
      "/home/ubuntu/anaconda3/lib/python3.6/site-packages/ipykernel_launcher.py:8: TqdmDeprecationWarning: This function will be removed in tqdm==5.0.0\n",
      "Please use `tqdm.notebook.tqdm` instead of `tqdm.tqdm_notebook`\n",
      "  \n"
     ]
    },
    {
     "data": {
      "application/vnd.jupyter.widget-view+json": {
       "model_id": "e5a5ce24006541aa9827fa0b34300aa7",
       "version_major": 2,
       "version_minor": 0
      },
      "text/plain": [
       "  0%|          | 0/5 [00:00<?, ?it/s]"
      ]
     },
     "metadata": {},
     "output_type": "display_data"
    }
   ],
   "source": [
    "from sklearn.model_selection import train_test_split\n",
    "\n",
    "X = []\n",
    "y = []\n",
    "\n",
    "path = './data/2_15_crop'\n",
    "\n",
    "for i in tqdm_notebook(range(5)):\n",
    "    random_set = np.random.choice(df[df['cluster']==i]['filename'].values, 2400, replace=False)\n",
    "    for file in random_set:\n",
    "        file_path = path + '/' + file\n",
    "        src = cv2.imread(file_path, cv2.IMREAD_COLOR)\n",
    "        dst = cv2.resize(src, dsize=(299, 299), interpolation=cv2.INTER_CUBIC)\n",
    "        X.append(dst)\n",
    "        y.append(df[df['filename'] == file]['cluster'].values[0]) "
   ]
  },
  {
   "cell_type": "code",
   "execution_count": 9,
   "metadata": {},
   "outputs": [],
   "source": [
    "%%time\n",
    "\n",
    "X = np.array(X)\n",
    "y = np.array(y)\n",
    "\n",
    "X_train, X_test, y_train, y_test = train_test_split(X, y, test_size=0.2, stratify=y, random_state=42, shuffle=True)\n",
    "\n",
    "X_train, X_test = X_train/255.0, X_test/225.0"
   ]
  },
  {
   "cell_type": "code",
   "execution_count": 5,
   "metadata": {},
   "outputs": [
    {
     "name": "stdout",
     "output_type": "stream",
     "text": [
      "Model: \"sequential\"\n",
      "_________________________________________________________________\n",
      "Layer (type)                 Output Shape              Param #   \n",
      "=================================================================\n",
      "inception_v3 (Functional)    (None, 8, 8, 2048)        21802784  \n",
      "_________________________________________________________________\n",
      "global_average_pooling2d (Gl (None, 2048)              0         \n",
      "_________________________________________________________________\n",
      "dropout (Dropout)            (None, 2048)              0         \n",
      "_________________________________________________________________\n",
      "dense (Dense)                (None, 5)                 10245     \n",
      "=================================================================\n",
      "Total params: 21,813,029\n",
      "Trainable params: 10,245\n",
      "Non-trainable params: 21,802,784\n",
      "_________________________________________________________________\n"
     ]
    }
   ],
   "source": [
    "from tensorflow.keras.models import Sequential\n",
    "from tensorflow.keras import optimizers, losses, activations, models\n",
    "from tensorflow.keras.layers import Convolution2D, Dense, Input, Flatten, Dropout, MaxPooling2D, BatchNormalization, GlobalAveragePooling2D, Concatenate\n",
    "from tensorflow.keras import applications\n",
    "from keras.applications.inception_v3 import preprocess_input\n",
    "\n",
    "\n",
    "input_shape = (299, 299, 3)\n",
    "\n",
    "base_model = applications.InceptionV3(weights='imagenet', include_top=False, input_shape=input_shape)\n",
    "\n",
    "base_model.trainable = False\n",
    "\n",
    "add_model = Sequential()\n",
    "add_model.add(base_model)\n",
    "add_model.add(GlobalAveragePooling2D())\n",
    "add_model.add(Dropout(0.5))\n",
    "add_model.add(Dense(5, activation='softmax'))\n",
    "\n",
    "model = add_model\n",
    "\n",
    "model.compile(loss='sparse_categorical_crossentropy', optimizer='adam', metrics=['accuracy'])\n",
    "model.summary()\n"
   ]
  },
  {
   "cell_type": "code",
   "execution_count": 6,
   "metadata": {},
   "outputs": [
    {
     "name": "stdout",
     "output_type": "stream",
     "text": [
      "Epoch 1/10\n",
      "300/300 [==============================] - 225s 734ms/step - loss: 0.5436 - accuracy: 0.7845 - val_loss: 0.3219 - val_accuracy: 0.8821\n",
      "Epoch 2/10\n",
      "300/300 [==============================] - 215s 716ms/step - loss: 0.3414 - accuracy: 0.8617 - val_loss: 0.3111 - val_accuracy: 0.8746\n",
      "Epoch 3/10\n",
      "300/300 [==============================] - 215s 717ms/step - loss: 0.3237 - accuracy: 0.8731 - val_loss: 0.3100 - val_accuracy: 0.8838\n",
      "Epoch 4/10\n",
      "300/300 [==============================] - 216s 720ms/step - loss: 0.3051 - accuracy: 0.8758 - val_loss: 0.2821 - val_accuracy: 0.8879\n",
      "Epoch 5/10\n",
      "300/300 [==============================] - 216s 720ms/step - loss: 0.2974 - accuracy: 0.8778 - val_loss: 0.2795 - val_accuracy: 0.8925\n",
      "Epoch 6/10\n",
      "300/300 [==============================] - 219s 731ms/step - loss: 0.2937 - accuracy: 0.8771 - val_loss: 0.2718 - val_accuracy: 0.8938\n",
      "Epoch 7/10\n",
      "300/300 [==============================] - 219s 731ms/step - loss: 0.2892 - accuracy: 0.8827 - val_loss: 0.2686 - val_accuracy: 0.8929\n",
      "Epoch 8/10\n",
      "300/300 [==============================] - 224s 747ms/step - loss: 0.2895 - accuracy: 0.8821 - val_loss: 0.2678 - val_accuracy: 0.8942\n",
      "Epoch 9/10\n",
      "300/300 [==============================] - 223s 743ms/step - loss: 0.2828 - accuracy: 0.8856 - val_loss: 0.2789 - val_accuracy: 0.8896\n",
      "Epoch 10/10\n",
      "300/300 [==============================] - 223s 745ms/step - loss: 0.2803 - accuracy: 0.8872 - val_loss: 0.2876 - val_accuracy: 0.8842\n"
     ]
    }
   ],
   "source": [
    "hist = model.fit(X_train, y_train, validation_data=(X_test, y_test), epochs=10, batch_size=32, verbose=1)"
   ]
  },
  {
   "cell_type": "code",
   "execution_count": 8,
   "metadata": {},
   "outputs": [
    {
     "data": {
      "image/png": "[encoded data removed]",
      "text/plain": [
       "<Figure size 864x576 with 1 Axes>"
      ]
     },
     "metadata": {
      "needs_background": "light"
     },
     "output_type": "display_data"
    }
   ],
   "source": [
    "plot_target = ['loss', 'val_loss', 'accuracy', 'val_accuracy']\n",
    "\n",
    "plt.figure(figsize=(12, 8))\n",
    "\n",
    "for each in plot_target:\n",
    "    plt.plot(hist.history[each], label=each)\n",
    "\n",
    "plt.legend()\n",
    "plt.grid()\n",
    "plt.show()"
   ]
  },
  {
   "cell_type": "code",
   "execution_count": 9,
   "metadata": {},
   "outputs": [],
   "source": [
    "model.save_weights('server_cpu1_w.h5')"
   ]
  },
  {
   "cell_type": "code",
   "execution_count": 10,
   "metadata": {},
   "outputs": [],
   "source": [
    "model.save('server_cpu1.h5')"
   ]
  },
  {
   "cell_type": "markdown",
   "metadata": {},
   "source": [
    "# 저장된 모델 불러와서 실제 5개 클러스터 데이터에 적용"
   ]
  },
  {
   "cell_type": "code",
   "execution_count": 4,
   "metadata": {},
   "outputs": [],
   "source": [
    "load_model = load_model('./server_cpu1.h5')"
   ]
  },
  {
   "cell_type": "markdown",
   "metadata": {},
   "source": [
    "## 1. test 데이터에 그대로 적용(실제로 validation data)"
   ]
  },
  {
   "cell_type": "code",
   "execution_count": 10,
   "metadata": {},
   "outputs": [
    {
     "data": {
      "text/plain": [
       "(9600, 9600)"
      ]
     },
     "execution_count": 10,
     "metadata": {},
     "output_type": "execute_result"
    }
   ],
   "source": [
    "len(X_train), len(y_train)"
   ]
  },
  {
   "cell_type": "code",
   "execution_count": 11,
   "metadata": {},
   "outputs": [
    {
     "data": {
      "text/plain": [
       "(2400, 2400)"
      ]
     },
     "execution_count": 11,
     "metadata": {},
     "output_type": "execute_result"
    }
   ],
   "source": [
    "len(X_test), len(y_test)"
   ]
  },
  {
   "cell_type": "code",
   "execution_count": 12,
   "metadata": {},
   "outputs": [
    {
     "name": "stdout",
     "output_type": "stream",
     "text": [
      "Model: \"sequential\"\n",
      "_________________________________________________________________\n",
      "Layer (type)                 Output Shape              Param #   \n",
      "=================================================================\n",
      "inception_v3 (Functional)    (None, 8, 8, 2048)        21802784  \n",
      "_________________________________________________________________\n",
      "global_average_pooling2d (Gl (None, 2048)              0         \n",
      "_________________________________________________________________\n",
      "dropout (Dropout)            (None, 2048)              0         \n",
      "_________________________________________________________________\n",
      "dense (Dense)                (None, 5)                 10245     \n",
      "=================================================================\n",
      "Total params: 21,813,029\n",
      "Trainable params: 10,245\n",
      "Non-trainable params: 21,802,784\n",
      "_________________________________________________________________\n"
     ]
    }
   ],
   "source": [
    "load_model.summary()"
   ]
  },
  {
   "cell_type": "code",
   "execution_count": 13,
   "metadata": {},
   "outputs": [
    {
     "name": "stdout",
     "output_type": "stream",
     "text": [
      "75/75 - 45s - loss: 0.2676 - accuracy: 0.8892\n",
      "복원된 모델의 정확도: 88.92%\n",
      "복원된 모델의 Loss: 26.76%\n",
      "CPU times: user 14min, sys: 59.1 s, total: 14min 59s\n",
      "Wall time: 49.2 s\n"
     ]
    }
   ],
   "source": [
    "%%time\n",
    "# load된 모델을 평가\n",
    "loss, acc = load_model.evaluate(X_test,  y_test, verbose=2)\n",
    "print('복원된 모델의 정확도: {:5.2f}%'.format(100*acc))\n",
    "print('복원된 모델의 Loss: {:5.2f}%'.format(100*loss))"
   ]
  },
  {
   "cell_type": "code",
   "execution_count": 14,
   "metadata": {},
   "outputs": [
    {
     "name": "stdout",
     "output_type": "stream",
     "text": [
      "CPU times: user 13min 34s, sys: 59.9 s, total: 14min 34s\n",
      "Wall time: 48.5 s\n"
     ]
    }
   ],
   "source": [
    "%%time\n",
    "y_predict = load_model.predict(X_test)"
   ]
  },
  {
   "cell_type": "code",
   "execution_count": 15,
   "metadata": {},
   "outputs": [
    {
     "name": "stdout",
     "output_type": "stream",
     "text": [
      "(2400, 5)\n"
     ]
    }
   ],
   "source": [
    "print(y_predict.shape)"
   ]
  },
  {
   "cell_type": "code",
   "execution_count": 16,
   "metadata": {},
   "outputs": [
    {
     "data": {
      "text/plain": [
       "array([[6.4050313e-05, 8.6615513e-11, 9.9624026e-01, 5.4884441e-07,\n",
       "        3.6951203e-03],\n",
       "       [1.1046553e-02, 2.2034909e-12, 9.8719132e-01, 1.2955753e-03,\n",
       "        4.6643821e-04],\n",
       "       [2.7144633e-05, 4.1059011e-14, 9.9997199e-01, 8.6652827e-09,\n",
       "        8.5897597e-07],\n",
       "       [3.6697288e-03, 8.5906733e-12, 9.9626368e-01, 1.5548125e-05,\n",
       "        5.1082738e-05],\n",
       "       [4.6188685e-05, 1.0998017e-02, 3.5907360e-06, 8.6774044e-06,\n",
       "        9.8894358e-01]], dtype=float32)"
      ]
     },
     "execution_count": 16,
     "metadata": {},
     "output_type": "execute_result"
    }
   ],
   "source": [
    "y_predict[:5]"
   ]
  },
  {
   "cell_type": "code",
   "execution_count": 17,
   "metadata": {
    "scrolled": true
   },
   "outputs": [
    {
     "data": {
      "text/plain": [
       "[2, 2, 2, 2, 4]"
      ]
     },
     "execution_count": 17,
     "metadata": {},
     "output_type": "execute_result"
    }
   ],
   "source": [
    "y_pred = []\n",
    "\n",
    "for i in y_predict:\n",
    "    i = list(i)\n",
    "    tmp = max(i)\n",
    "    index = i.index(tmp)\n",
    "    y_pred.append(index)\n",
    "\n",
    "y_pred[:5]"
   ]
  },
  {
   "cell_type": "code",
   "execution_count": 18,
   "metadata": {},
   "outputs": [
    {
     "data": {
      "text/plain": [
       "array([2, 2, 2, ..., 0, 3, 3])"
      ]
     },
     "execution_count": 18,
     "metadata": {},
     "output_type": "execute_result"
    }
   ],
   "source": [
    "y_test"
   ]
  },
  {
   "cell_type": "code",
   "execution_count": 19,
   "metadata": {},
   "outputs": [
    {
     "data": {
      "text/plain": [
       "array([[370,   1,  81,  11,  17],\n",
       "       [  0, 465,   0,  11,   4],\n",
       "       [ 12,   0, 448,   8,  12],\n",
       "       [  7,  19,  11, 438,   5],\n",
       "       [  2,  10,  48,   7, 413]])"
      ]
     },
     "execution_count": 19,
     "metadata": {},
     "output_type": "execute_result"
    }
   ],
   "source": [
    "from sklearn.metrics import confusion_matrix\n",
    "\n",
    "confusion_matrix(y_test, y_pred)"
   ]
  },
  {
   "cell_type": "markdown",
   "metadata": {},
   "source": [
    "## 2. 다시 샘플링하여 새로운 데이터 적용(replace = False)"
   ]
  },
  {
   "cell_type": "code",
   "execution_count": 31,
   "metadata": {},
   "outputs": [
    {
     "name": "stderr",
     "output_type": "stream",
     "text": [
      "/home/ubuntu/anaconda3/lib/python3.6/site-packages/ipykernel_launcher.py:8: TqdmDeprecationWarning: This function will be removed in tqdm==5.0.0\n",
      "Please use `tqdm.notebook.tqdm` instead of `tqdm.tqdm_notebook`\n",
      "  \n"
     ]
    },
    {
     "data": {
      "application/vnd.jupyter.widget-view+json": {
       "model_id": "bb46b0a664874ae38aad7c3d5231ae32",
       "version_major": 2,
       "version_minor": 0
      },
      "text/plain": [
       "  0%|          | 0/5 [00:00<?, ?it/s]"
      ]
     },
     "metadata": {},
     "output_type": "display_data"
    }
   ],
   "source": [
    "from sklearn.model_selection import train_test_split\n",
    "\n",
    "XX = []\n",
    "yy = []\n",
    "\n",
    "path = './data/2_15_crop'\n",
    "\n",
    "for i in tqdm_notebook(range(5)):\n",
    "    random_set = np.random.choice(df[df['cluster']==i]['filename'].values, 200, replace=False)\n",
    "    for file in random_set:\n",
    "        file_path = path + '/' + file\n",
    "        src = cv2.imread(file_path, cv2.IMREAD_COLOR)\n",
    "        dst = cv2.resize(src, dsize=(299, 299), interpolation=cv2.INTER_CUBIC)\n",
    "        XX.append(dst)\n",
    "        yy.append(df[df['filename'] == file]['cluster'].values[0]) "
   ]
  },
  {
   "cell_type": "code",
   "execution_count": 32,
   "metadata": {},
   "outputs": [],
   "source": [
    "XX = np.array(XX)\n",
    "yy = np.array(yy)\n",
    "\n",
    "XX = XX/255.0 # 정규화!"
   ]
  },
  {
   "cell_type": "code",
   "execution_count": 33,
   "metadata": {},
   "outputs": [
    {
     "data": {
      "text/plain": [
       "(1000, 1000)"
      ]
     },
     "execution_count": 33,
     "metadata": {},
     "output_type": "execute_result"
    }
   ],
   "source": [
    "len(XX), len(yy)"
   ]
  },
  {
   "cell_type": "code",
   "execution_count": 34,
   "metadata": {},
   "outputs": [
    {
     "name": "stdout",
     "output_type": "stream",
     "text": [
      "32/32 - 18s - loss: 0.2378 - accuracy: 0.8960\n",
      "복원된 모델의 정확도: 89.60%\n",
      "복원된 모델의 Loss: 23.78%\n",
      "CPU times: user 5min 37s, sys: 23.8 s, total: 6min 1s\n",
      "Wall time: 19.5 s\n"
     ]
    }
   ],
   "source": [
    "%%time\n",
    "# load된 모델을 평가\n",
    "loss, acc = load_model.evaluate(XX,  yy, verbose=2)\n",
    "print('복원된 모델의 정확도: {:5.2f}%'.format(100*acc))\n",
    "print('복원된 모델의 Loss: {:5.2f}%'.format(100*loss))"
   ]
  },
  {
   "cell_type": "code",
   "execution_count": 35,
   "metadata": {},
   "outputs": [
    {
     "name": "stdout",
     "output_type": "stream",
     "text": [
      "CPU times: user 5min 38s, sys: 24.2 s, total: 6min 3s\n",
      "Wall time: 19.6 s\n"
     ]
    }
   ],
   "source": [
    "%%time\n",
    "y_predict = load_model.predict(XX)"
   ]
  },
  {
   "cell_type": "code",
   "execution_count": 36,
   "metadata": {},
   "outputs": [
    {
     "name": "stdout",
     "output_type": "stream",
     "text": [
      "(1000, 5)\n"
     ]
    }
   ],
   "source": [
    "print(y_predict.shape)"
   ]
  },
  {
   "cell_type": "code",
   "execution_count": 37,
   "metadata": {},
   "outputs": [
    {
     "data": {
      "text/plain": [
       "[0, 2, 2, 0, 0]"
      ]
     },
     "execution_count": 37,
     "metadata": {},
     "output_type": "execute_result"
    }
   ],
   "source": [
    "y_pred = []\n",
    "\n",
    "for i in y_predict:\n",
    "    i = list(i)\n",
    "    tmp = max(i)\n",
    "    index = i.index(tmp)\n",
    "    y_pred.append(index)\n",
    "\n",
    "y_pred[:5]"
   ]
  },
  {
   "cell_type": "code",
   "execution_count": 38,
   "metadata": {},
   "outputs": [
    {
     "data": {
      "text/plain": [
       "array([[157,   0,  32,   5,   6],\n",
       "       [  0, 190,   0,   7,   3],\n",
       "       [  8,   0, 185,   2,   5],\n",
       "       [  2,  11,   0, 184,   3],\n",
       "       [  1,   1,  17,   1, 180]])"
      ]
     },
     "execution_count": 38,
     "metadata": {},
     "output_type": "execute_result"
    }
   ],
   "source": [
    "confusion_matrix(yy, y_pred)"
   ]
  },
  {
   "cell_type": "code",
   "execution_count": 30,
   "metadata": {},
   "outputs": [
    {
     "data": {
      "text/plain": [
       "array([[9.9404871e-01, 3.3752408e-06, 4.2241812e-03, 4.4440327e-04,\n",
       "        1.2794056e-03],\n",
       "       [4.4164324e-01, 6.7116537e-07, 4.1922766e-01, 7.0467754e-04,\n",
       "        1.3842370e-01],\n",
       "       [9.9898309e-01, 2.4573560e-10, 9.7712909e-04, 3.3794950e-05,\n",
       "        5.9680078e-06],\n",
       "       ...,\n",
       "       [2.1188129e-03, 8.4071356e-04, 4.1295108e-03, 1.3071646e-04,\n",
       "        9.9278027e-01],\n",
       "       [1.9262862e-01, 1.9147522e-07, 6.2197280e-01, 6.5457928e-03,\n",
       "        1.7885256e-01],\n",
       "       [7.3900774e-02, 2.0285495e-05, 1.5798458e-01, 5.4868949e-03,\n",
       "        7.6260746e-01]], dtype=float32)"
      ]
     },
     "execution_count": 30,
     "metadata": {},
     "output_type": "execute_result"
    }
   ],
   "source": [
    "y_predict"
   ]
  },
  {
   "cell_type": "code",
   "execution_count": null,
   "metadata": {},
   "outputs": [],
   "source": []
  }
 ],
 "metadata": {
  "interpreter": {
   "hash": "fff8a2ebda7d7c31fff9abc7af7b4b1a85e6e317ed9dea4607b41f7b3e93769e"
  },
  "kernelspec": {
   "display_name": "Python 3",
   "language": "python",
   "name": "python3"
  },
  "language_info": {
   "codemirror_mode": {
    "name": "ipython",
    "version": 3
   },
   "file_extension": ".py",
   "mimetype": "text/x-python",
   "name": "python",
   "nbconvert_exporter": "python",
   "pygments_lexer": "ipython3",
   "version": "3.6.10"
  }
 },
 "nbformat": 4,
 "nbformat_minor": 2
}
